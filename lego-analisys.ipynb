{
 "cells": [
  {
   "cell_type": "markdown",
   "id": "ad28cf3b-e32f-43e7-bb55-a9fb645a5482",
   "metadata": {
    "jp-MarkdownHeadingCollapsed": true,
    "tags": []
   },
   "source": [
    "## Подготовка нужных библиотек"
   ]
  },
  {
   "cell_type": "code",
   "execution_count": 48,
   "id": "d4f7d669-68c1-4f92-aa3a-c4ea258579a2",
   "metadata": {
    "tags": []
   },
   "outputs": [],
   "source": [
    "import pandas as pd\n",
    "import numpy as np\n",
    "import matplotlib.pyplot as plt"
   ]
  },
  {
   "cell_type": "markdown",
   "id": "4d4d2c98-47e8-4b1f-a6ac-9e07d220abeb",
   "metadata": {
    "jp-MarkdownHeadingCollapsed": true,
    "tags": []
   },
   "source": [
    "## Подготовка нужных таблиц"
   ]
  },
  {
   "cell_type": "code",
   "execution_count": 49,
   "id": "0fc70dbf-821c-44c8-a789-323f39831652",
   "metadata": {
    "tags": []
   },
   "outputs": [],
   "source": [
    "pd.set_option('display.max_rows', 50)"
   ]
  },
  {
   "cell_type": "markdown",
   "id": "7d193e22-54ca-4e42-b1e3-1a70ee294917",
   "metadata": {},
   "source": [
    "Импорт нужных таблиц"
   ]
  },
  {
   "cell_type": "markdown",
   "id": "27e37000-a9ce-4635-a4b2-52429f49d14f",
   "metadata": {},
   "source": [
    "Где df - лего наборы, p_themes - лицензия (есть или нет) у отдельных тем, sets - информация о айди темы набора и колличеством частей в нем"
   ]
  },
  {
   "cell_type": "code",
   "execution_count": 50,
   "id": "966b8e16-8266-4f78-85fe-e5d956bc5511",
   "metadata": {
    "tags": []
   },
   "outputs": [],
   "source": [
    "df = pd.read_csv('lego-analysis-master/datasets/lego_sets.csv')\n",
    "p_themes = pd.read_csv('lego-analysis-master/datasets/parent_themes.csv')\n",
    "sets = pd.read_csv('lego-analysis-master/datasets/sets.csv')"
   ]
  },
  {
   "cell_type": "code",
   "execution_count": 51,
   "id": "f2e8d18d-ad09-41be-b8f2-e1cf1f7bec7e",
   "metadata": {
    "tags": []
   },
   "outputs": [
    {
     "data": {
      "text/html": [
       "<div>\n",
       "<style scoped>\n",
       "    .dataframe tbody tr th:only-of-type {\n",
       "        vertical-align: middle;\n",
       "    }\n",
       "\n",
       "    .dataframe tbody tr th {\n",
       "        vertical-align: top;\n",
       "    }\n",
       "\n",
       "    .dataframe thead th {\n",
       "        text-align: right;\n",
       "    }\n",
       "</style>\n",
       "<table border=\"1\" class=\"dataframe\">\n",
       "  <thead>\n",
       "    <tr style=\"text-align: right;\">\n",
       "      <th></th>\n",
       "      <th>set_num</th>\n",
       "      <th>name</th>\n",
       "      <th>year</th>\n",
       "      <th>num_parts</th>\n",
       "      <th>theme_name</th>\n",
       "      <th>parent_theme</th>\n",
       "    </tr>\n",
       "  </thead>\n",
       "  <tbody>\n",
       "    <tr>\n",
       "      <th>0</th>\n",
       "      <td>00-1</td>\n",
       "      <td>Weetabix Castle</td>\n",
       "      <td>1970</td>\n",
       "      <td>471.0</td>\n",
       "      <td>Castle</td>\n",
       "      <td>Legoland</td>\n",
       "    </tr>\n",
       "    <tr>\n",
       "      <th>1</th>\n",
       "      <td>0011-2</td>\n",
       "      <td>Town Mini-Figures</td>\n",
       "      <td>1978</td>\n",
       "      <td>NaN</td>\n",
       "      <td>Supplemental</td>\n",
       "      <td>Town</td>\n",
       "    </tr>\n",
       "    <tr>\n",
       "      <th>2</th>\n",
       "      <td>0011-3</td>\n",
       "      <td>Castle 2 for 1 Bonus Offer</td>\n",
       "      <td>1987</td>\n",
       "      <td>NaN</td>\n",
       "      <td>Lion Knights</td>\n",
       "      <td>Castle</td>\n",
       "    </tr>\n",
       "    <tr>\n",
       "      <th>3</th>\n",
       "      <td>0012-1</td>\n",
       "      <td>Space Mini-Figures</td>\n",
       "      <td>1979</td>\n",
       "      <td>12.0</td>\n",
       "      <td>Supplemental</td>\n",
       "      <td>Space</td>\n",
       "    </tr>\n",
       "    <tr>\n",
       "      <th>4</th>\n",
       "      <td>0013-1</td>\n",
       "      <td>Space Mini-Figures</td>\n",
       "      <td>1979</td>\n",
       "      <td>12.0</td>\n",
       "      <td>Supplemental</td>\n",
       "      <td>Space</td>\n",
       "    </tr>\n",
       "  </tbody>\n",
       "</table>\n",
       "</div>"
      ],
      "text/plain": [
       "  set_num                        name  year  num_parts    theme_name  \\\n",
       "0    00-1             Weetabix Castle  1970      471.0        Castle   \n",
       "1  0011-2           Town Mini-Figures  1978        NaN  Supplemental   \n",
       "2  0011-3  Castle 2 for 1 Bonus Offer  1987        NaN  Lion Knights   \n",
       "3  0012-1          Space Mini-Figures  1979       12.0  Supplemental   \n",
       "4  0013-1          Space Mini-Figures  1979       12.0  Supplemental   \n",
       "\n",
       "  parent_theme  \n",
       "0     Legoland  \n",
       "1         Town  \n",
       "2       Castle  \n",
       "3        Space  \n",
       "4        Space  "
      ]
     },
     "execution_count": 51,
     "metadata": {},
     "output_type": "execute_result"
    }
   ],
   "source": [
    "df.head()"
   ]
  },
  {
   "cell_type": "code",
   "execution_count": 52,
   "id": "4dbd52d0-8086-427f-aa3d-3514b72d5c20",
   "metadata": {
    "tags": []
   },
   "outputs": [
    {
     "data": {
      "text/html": [
       "<div>\n",
       "<style scoped>\n",
       "    .dataframe tbody tr th:only-of-type {\n",
       "        vertical-align: middle;\n",
       "    }\n",
       "\n",
       "    .dataframe tbody tr th {\n",
       "        vertical-align: top;\n",
       "    }\n",
       "\n",
       "    .dataframe thead th {\n",
       "        text-align: right;\n",
       "    }\n",
       "</style>\n",
       "<table border=\"1\" class=\"dataframe\">\n",
       "  <thead>\n",
       "    <tr style=\"text-align: right;\">\n",
       "      <th></th>\n",
       "      <th>id</th>\n",
       "      <th>name</th>\n",
       "      <th>is_licensed</th>\n",
       "    </tr>\n",
       "  </thead>\n",
       "  <tbody>\n",
       "    <tr>\n",
       "      <th>0</th>\n",
       "      <td>1</td>\n",
       "      <td>Technic</td>\n",
       "      <td>False</td>\n",
       "    </tr>\n",
       "    <tr>\n",
       "      <th>1</th>\n",
       "      <td>22</td>\n",
       "      <td>Creator</td>\n",
       "      <td>False</td>\n",
       "    </tr>\n",
       "    <tr>\n",
       "      <th>2</th>\n",
       "      <td>50</td>\n",
       "      <td>Town</td>\n",
       "      <td>False</td>\n",
       "    </tr>\n",
       "    <tr>\n",
       "      <th>3</th>\n",
       "      <td>112</td>\n",
       "      <td>Racers</td>\n",
       "      <td>False</td>\n",
       "    </tr>\n",
       "    <tr>\n",
       "      <th>4</th>\n",
       "      <td>126</td>\n",
       "      <td>Space</td>\n",
       "      <td>False</td>\n",
       "    </tr>\n",
       "  </tbody>\n",
       "</table>\n",
       "</div>"
      ],
      "text/plain": [
       "    id     name  is_licensed\n",
       "0    1  Technic        False\n",
       "1   22  Creator        False\n",
       "2   50     Town        False\n",
       "3  112   Racers        False\n",
       "4  126    Space        False"
      ]
     },
     "execution_count": 52,
     "metadata": {},
     "output_type": "execute_result"
    }
   ],
   "source": [
    "p_themes.head()"
   ]
  },
  {
   "cell_type": "code",
   "execution_count": 53,
   "id": "a4192e20-dd25-401e-83bd-d07bb989ee46",
   "metadata": {
    "tags": []
   },
   "outputs": [
    {
     "data": {
      "text/html": [
       "<div>\n",
       "<style scoped>\n",
       "    .dataframe tbody tr th:only-of-type {\n",
       "        vertical-align: middle;\n",
       "    }\n",
       "\n",
       "    .dataframe tbody tr th {\n",
       "        vertical-align: top;\n",
       "    }\n",
       "\n",
       "    .dataframe thead th {\n",
       "        text-align: right;\n",
       "    }\n",
       "</style>\n",
       "<table border=\"1\" class=\"dataframe\">\n",
       "  <thead>\n",
       "    <tr style=\"text-align: right;\">\n",
       "      <th></th>\n",
       "      <th>set_num</th>\n",
       "      <th>name</th>\n",
       "      <th>year</th>\n",
       "      <th>theme_id</th>\n",
       "      <th>num_parts</th>\n",
       "    </tr>\n",
       "  </thead>\n",
       "  <tbody>\n",
       "    <tr>\n",
       "      <th>0</th>\n",
       "      <td>00-1</td>\n",
       "      <td>Weetabix Castle</td>\n",
       "      <td>1970</td>\n",
       "      <td>414</td>\n",
       "      <td>471</td>\n",
       "    </tr>\n",
       "    <tr>\n",
       "      <th>1</th>\n",
       "      <td>0011-2</td>\n",
       "      <td>Town Mini-Figures</td>\n",
       "      <td>1978</td>\n",
       "      <td>84</td>\n",
       "      <td>12</td>\n",
       "    </tr>\n",
       "    <tr>\n",
       "      <th>2</th>\n",
       "      <td>0011-3</td>\n",
       "      <td>Castle 2 for 1 Bonus Offer</td>\n",
       "      <td>1987</td>\n",
       "      <td>199</td>\n",
       "      <td>2</td>\n",
       "    </tr>\n",
       "    <tr>\n",
       "      <th>3</th>\n",
       "      <td>0012-1</td>\n",
       "      <td>Space Mini-Figures</td>\n",
       "      <td>1979</td>\n",
       "      <td>143</td>\n",
       "      <td>12</td>\n",
       "    </tr>\n",
       "    <tr>\n",
       "      <th>4</th>\n",
       "      <td>0013-1</td>\n",
       "      <td>Space Mini-Figures</td>\n",
       "      <td>1979</td>\n",
       "      <td>143</td>\n",
       "      <td>12</td>\n",
       "    </tr>\n",
       "  </tbody>\n",
       "</table>\n",
       "</div>"
      ],
      "text/plain": [
       "  set_num                        name  year  theme_id  num_parts\n",
       "0    00-1             Weetabix Castle  1970       414        471\n",
       "1  0011-2           Town Mini-Figures  1978        84         12\n",
       "2  0011-3  Castle 2 for 1 Bonus Offer  1987       199          2\n",
       "3  0012-1          Space Mini-Figures  1979       143         12\n",
       "4  0013-1          Space Mini-Figures  1979       143         12"
      ]
     },
     "execution_count": 53,
     "metadata": {},
     "output_type": "execute_result"
    }
   ],
   "source": [
    "sets.head()"
   ]
  },
  {
   "cell_type": "markdown",
   "id": "8e9e90d2-2da4-4e54-9e1d-74e7968f0e0f",
   "metadata": {
    "jp-MarkdownHeadingCollapsed": true,
    "tags": []
   },
   "source": [
    "## Задача 1: Подсчитать процентное соотношение лицензированных наборов по звездным войнам"
   ]
  },
  {
   "cell_type": "code",
   "execution_count": 54,
   "id": "443ccc5d-5f46-405f-af47-d0ce10bc2c04",
   "metadata": {
    "tags": []
   },
   "outputs": [],
   "source": [
    "mdf = df.merge(p_themes, left_on = 'parent_theme', right_on = 'name')  #соединяем df  и p_themes в оду таблицу\n",
    "mdf = mdf.drop(columns=['name_y'])\n",
    "mdf = mdf.rename(columns = {'name_x':'name'})"
   ]
  },
  {
   "cell_type": "code",
   "execution_count": 55,
   "id": "eaca6ec3-3b3c-4789-8585-6b5aac2c3583",
   "metadata": {
    "tags": []
   },
   "outputs": [],
   "source": [
    "mdf = mdf.dropna(subset = 'set_num')"
   ]
  },
  {
   "cell_type": "code",
   "execution_count": 56,
   "id": "85251163-862f-413f-a899-1623f973632e",
   "metadata": {
    "tags": []
   },
   "outputs": [
    {
     "data": {
      "text/html": [
       "<div>\n",
       "<style scoped>\n",
       "    .dataframe tbody tr th:only-of-type {\n",
       "        vertical-align: middle;\n",
       "    }\n",
       "\n",
       "    .dataframe tbody tr th {\n",
       "        vertical-align: top;\n",
       "    }\n",
       "\n",
       "    .dataframe thead th {\n",
       "        text-align: right;\n",
       "    }\n",
       "</style>\n",
       "<table border=\"1\" class=\"dataframe\">\n",
       "  <thead>\n",
       "    <tr style=\"text-align: right;\">\n",
       "      <th></th>\n",
       "      <th>set_num</th>\n",
       "      <th>name</th>\n",
       "      <th>year</th>\n",
       "      <th>num_parts</th>\n",
       "      <th>theme_name</th>\n",
       "      <th>parent_theme</th>\n",
       "      <th>id</th>\n",
       "      <th>is_licensed</th>\n",
       "    </tr>\n",
       "  </thead>\n",
       "  <tbody>\n",
       "    <tr>\n",
       "      <th>0</th>\n",
       "      <td>00-1</td>\n",
       "      <td>Weetabix Castle</td>\n",
       "      <td>1970</td>\n",
       "      <td>471.0</td>\n",
       "      <td>Castle</td>\n",
       "      <td>Legoland</td>\n",
       "      <td>411</td>\n",
       "      <td>False</td>\n",
       "    </tr>\n",
       "    <tr>\n",
       "      <th>1</th>\n",
       "      <td>00-2</td>\n",
       "      <td>Weetabix Promotional House 1</td>\n",
       "      <td>1976</td>\n",
       "      <td>NaN</td>\n",
       "      <td>Building</td>\n",
       "      <td>Legoland</td>\n",
       "      <td>411</td>\n",
       "      <td>False</td>\n",
       "    </tr>\n",
       "    <tr>\n",
       "      <th>2</th>\n",
       "      <td>00-3</td>\n",
       "      <td>Weetabix Promotional House 2</td>\n",
       "      <td>1976</td>\n",
       "      <td>NaN</td>\n",
       "      <td>Building</td>\n",
       "      <td>Legoland</td>\n",
       "      <td>411</td>\n",
       "      <td>False</td>\n",
       "    </tr>\n",
       "    <tr>\n",
       "      <th>3</th>\n",
       "      <td>00-4</td>\n",
       "      <td>Weetabix Promotional Windmill</td>\n",
       "      <td>1976</td>\n",
       "      <td>126.0</td>\n",
       "      <td>Building</td>\n",
       "      <td>Legoland</td>\n",
       "      <td>411</td>\n",
       "      <td>False</td>\n",
       "    </tr>\n",
       "    <tr>\n",
       "      <th>4</th>\n",
       "      <td>00-7</td>\n",
       "      <td>Weetabix Promotional Lego Village</td>\n",
       "      <td>1976</td>\n",
       "      <td>NaN</td>\n",
       "      <td>Building</td>\n",
       "      <td>Legoland</td>\n",
       "      <td>411</td>\n",
       "      <td>False</td>\n",
       "    </tr>\n",
       "  </tbody>\n",
       "</table>\n",
       "</div>"
      ],
      "text/plain": [
       "  set_num                               name  year  num_parts theme_name  \\\n",
       "0    00-1                    Weetabix Castle  1970      471.0     Castle   \n",
       "1    00-2       Weetabix Promotional House 1  1976        NaN   Building   \n",
       "2    00-3       Weetabix Promotional House 2  1976        NaN   Building   \n",
       "3    00-4      Weetabix Promotional Windmill  1976      126.0   Building   \n",
       "4    00-7  Weetabix Promotional Lego Village  1976        NaN   Building   \n",
       "\n",
       "  parent_theme   id  is_licensed  \n",
       "0     Legoland  411        False  \n",
       "1     Legoland  411        False  \n",
       "2     Legoland  411        False  \n",
       "3     Legoland  411        False  \n",
       "4     Legoland  411        False  "
      ]
     },
     "execution_count": 56,
     "metadata": {},
     "output_type": "execute_result"
    }
   ],
   "source": [
    "mdf.head() # получаем таблицу с нужными нам темами наборов и столбцом is_licensed"
   ]
  },
  {
   "cell_type": "code",
   "execution_count": 57,
   "id": "9d774a06-c0e1-4bec-a659-776d3073bab3",
   "metadata": {
    "tags": []
   },
   "outputs": [],
   "source": [
    "ans = mdf.groupby('is_licensed')['parent_theme'].value_counts()[True]"
   ]
  },
  {
   "cell_type": "code",
   "execution_count": 58,
   "id": "b4cd9445-39c1-4dd9-9257-951d60fa1a4e",
   "metadata": {
    "tags": []
   },
   "outputs": [
    {
     "data": {
      "text/plain": [
       "51.653944020356235"
      ]
     },
     "execution_count": 58,
     "metadata": {},
     "output_type": "execute_result"
    }
   ],
   "source": [
    "ans['Star Wars']/ans.sum()*100"
   ]
  },
  {
   "cell_type": "code",
   "execution_count": 59,
   "id": "5fc7e042-dabf-4833-8232-6e440516d277",
   "metadata": {
    "tags": []
   },
   "outputs": [],
   "source": [
    "others = ans.iloc[2:].sum()\n",
    "ans = ans.iloc[:2] \n",
    "ans['others'] = others"
   ]
  },
  {
   "cell_type": "code",
   "execution_count": 60,
   "id": "e71e090f-cc9b-45fe-8057-16c4ec8cec48",
   "metadata": {
    "tags": []
   },
   "outputs": [
    {
     "data": {
      "text/plain": [
       "parent_theme\n",
       "Star Wars       609\n",
       "Super Heroes    242\n",
       "others          328\n",
       "Name: parent_theme, dtype: int64"
      ]
     },
     "execution_count": 60,
     "metadata": {},
     "output_type": "execute_result"
    }
   ],
   "source": [
    "ans"
   ]
  },
  {
   "cell_type": "code",
   "execution_count": 61,
   "id": "967c139a-4bf1-4092-93f9-6595f1812666",
   "metadata": {
    "tags": []
   },
   "outputs": [
    {
     "data": {
      "text/plain": [
       "<Axes: ylabel='Самые популярные наборы'>"
      ]
     },
     "execution_count": 61,
     "metadata": {},
     "output_type": "execute_result"
    },
    {
     "data": {
      "image/png": "[encoded data removed]",
      "text/plain": [
       "<Figure size 640x480 with 1 Axes>"
      ]
     },
     "metadata": {},
     "output_type": "display_data"
    }
   ],
   "source": [
    "ans.plot(kind = 'pie', ylabel = 'Самые популярные наборы')"
   ]
  },
  {
   "cell_type": "markdown",
   "id": "d3d4b921-bf93-4336-ba27-3294fadd2df0",
   "metadata": {},
   "source": [
    "Ответ: 51.65 %"
   ]
  },
  {
   "cell_type": "markdown",
   "id": "d8f48c85-a863-434b-8db9-f3d87ed6411a",
   "metadata": {
    "jp-MarkdownHeadingCollapsed": true,
    "tags": []
   },
   "source": [
    "## Задача 2: Узнать, в каком году Звездные войны не были самой популярной темой"
   ]
  },
  {
   "cell_type": "code",
   "execution_count": 62,
   "id": "6bb6ad62-eba0-4969-b878-5baa8f953398",
   "metadata": {
    "tags": []
   },
   "outputs": [],
   "source": [
    "mdf['count'] = 1    #Создаю счетчик для удобства\n",
    "\n",
    "lmdf = mdf[mdf['is_licensed'] == True]  # Отбираю лицензированые наборы"
   ]
  },
  {
   "cell_type": "code",
   "execution_count": 63,
   "id": "7cef92ba-cde9-485f-a909-db0afbb22e67",
   "metadata": {
    "tags": []
   },
   "outputs": [
    {
     "data": {
      "text/html": [
       "<div>\n",
       "<style scoped>\n",
       "    .dataframe tbody tr th:only-of-type {\n",
       "        vertical-align: middle;\n",
       "    }\n",
       "\n",
       "    .dataframe tbody tr th {\n",
       "        vertical-align: top;\n",
       "    }\n",
       "\n",
       "    .dataframe thead th {\n",
       "        text-align: right;\n",
       "    }\n",
       "</style>\n",
       "<table border=\"1\" class=\"dataframe\">\n",
       "  <thead>\n",
       "    <tr style=\"text-align: right;\">\n",
       "      <th></th>\n",
       "      <th>set_num</th>\n",
       "      <th>name</th>\n",
       "      <th>year</th>\n",
       "      <th>num_parts</th>\n",
       "      <th>theme_name</th>\n",
       "      <th>parent_theme</th>\n",
       "      <th>id</th>\n",
       "      <th>is_licensed</th>\n",
       "      <th>count</th>\n",
       "    </tr>\n",
       "  </thead>\n",
       "  <tbody>\n",
       "    <tr>\n",
       "      <th>3493</th>\n",
       "      <td>10018-1</td>\n",
       "      <td>Darth Maul</td>\n",
       "      <td>2001</td>\n",
       "      <td>1868.0</td>\n",
       "      <td>Star Wars</td>\n",
       "      <td>Star Wars</td>\n",
       "      <td>158</td>\n",
       "      <td>True</td>\n",
       "      <td>1</td>\n",
       "    </tr>\n",
       "    <tr>\n",
       "      <th>3494</th>\n",
       "      <td>10019-1</td>\n",
       "      <td>Rebel Blockade Runner - UCS</td>\n",
       "      <td>2001</td>\n",
       "      <td>NaN</td>\n",
       "      <td>Star Wars Episode 4/5/6</td>\n",
       "      <td>Star Wars</td>\n",
       "      <td>158</td>\n",
       "      <td>True</td>\n",
       "      <td>1</td>\n",
       "    </tr>\n",
       "    <tr>\n",
       "      <th>3495</th>\n",
       "      <td>10026-1</td>\n",
       "      <td>Naboo Starfighter - UCS</td>\n",
       "      <td>2002</td>\n",
       "      <td>NaN</td>\n",
       "      <td>Star Wars Episode 1</td>\n",
       "      <td>Star Wars</td>\n",
       "      <td>158</td>\n",
       "      <td>True</td>\n",
       "      <td>1</td>\n",
       "    </tr>\n",
       "    <tr>\n",
       "      <th>3496</th>\n",
       "      <td>10030-1</td>\n",
       "      <td>Imperial Star Destroyer - UCS</td>\n",
       "      <td>2002</td>\n",
       "      <td>3115.0</td>\n",
       "      <td>Star Wars Episode 4/5/6</td>\n",
       "      <td>Star Wars</td>\n",
       "      <td>158</td>\n",
       "      <td>True</td>\n",
       "      <td>1</td>\n",
       "    </tr>\n",
       "    <tr>\n",
       "      <th>3497</th>\n",
       "      <td>10123-1</td>\n",
       "      <td>Cloud City</td>\n",
       "      <td>2003</td>\n",
       "      <td>707.0</td>\n",
       "      <td>Star Wars Episode 4/5/6</td>\n",
       "      <td>Star Wars</td>\n",
       "      <td>158</td>\n",
       "      <td>True</td>\n",
       "      <td>1</td>\n",
       "    </tr>\n",
       "  </tbody>\n",
       "</table>\n",
       "</div>"
      ],
      "text/plain": [
       "      set_num                           name  year  num_parts  \\\n",
       "3493  10018-1                     Darth Maul  2001     1868.0   \n",
       "3494  10019-1    Rebel Blockade Runner - UCS  2001        NaN   \n",
       "3495  10026-1        Naboo Starfighter - UCS  2002        NaN   \n",
       "3496  10030-1  Imperial Star Destroyer - UCS  2002     3115.0   \n",
       "3497  10123-1                     Cloud City  2003      707.0   \n",
       "\n",
       "                   theme_name parent_theme   id  is_licensed  count  \n",
       "3493                Star Wars    Star Wars  158         True      1  \n",
       "3494  Star Wars Episode 4/5/6    Star Wars  158         True      1  \n",
       "3495      Star Wars Episode 1    Star Wars  158         True      1  \n",
       "3496  Star Wars Episode 4/5/6    Star Wars  158         True      1  \n",
       "3497  Star Wars Episode 4/5/6    Star Wars  158         True      1  "
      ]
     },
     "execution_count": 63,
     "metadata": {},
     "output_type": "execute_result"
    }
   ],
   "source": [
    "lmdf.head()"
   ]
  },
  {
   "cell_type": "code",
   "execution_count": 79,
   "id": "38083248-30ca-4fa5-8f58-b56017fb0b73",
   "metadata": {
    "tags": []
   },
   "outputs": [],
   "source": [
    "ans = lmdf.groupby(['year','parent_theme'])['count'].sum().reset_index() # колличество наборов по каждой теме за год\n",
    "\n",
    "idx = ans.groupby('year')['count'].transform('max') == ans['count'] #выбираю самый популярную тему наборов года"
   ]
  },
  {
   "cell_type": "code",
   "execution_count": 80,
   "id": "6a074ebe-0f99-4e0b-a3b1-cb49a477459d",
   "metadata": {
    "tags": []
   },
   "outputs": [],
   "source": [
    "ans = ans[idx]"
   ]
  },
  {
   "cell_type": "code",
   "execution_count": 83,
   "id": "3863356d-5b5c-4835-a394-74ff84ff865e",
   "metadata": {
    "tags": []
   },
   "outputs": [
    {
     "data": {
      "text/plain": [
       "82    2017\n",
       "Name: year, dtype: int64"
      ]
     },
     "execution_count": 83,
     "metadata": {},
     "output_type": "execute_result"
    }
   ],
   "source": [
    "filt = ans['parent_theme'] != \"Star Wars\"\n",
    "ans.loc[filt, 'year']"
   ]
  },
  {
   "cell_type": "markdown",
   "id": "f231dad2-6dd3-4c48-b1e3-d1e85bd1c40c",
   "metadata": {},
   "source": [
    "Ответ: В 2017"
   ]
  },
  {
   "cell_type": "markdown",
   "id": "636a7c5b-47fd-40b8-bb2a-65e2c0bc2aaa",
   "metadata": {
    "jp-MarkdownHeadingCollapsed": true,
    "tags": []
   },
   "source": [
    "## Задача 3: Узнать в каком году было больше всего уникальных наборов"
   ]
  },
  {
   "cell_type": "code",
   "execution_count": 160,
   "id": "27f3fef8-77a8-4e30-8296-4e0ae400bbc1",
   "metadata": {
    "tags": []
   },
   "outputs": [],
   "source": [
    "ans = mdf.groupby('year')['count'].sum()        #считаем колличество наборов за каждый год\n",
    "\n",
    "max_unique_sets = ans[ans == ans.max()]         #Получаем ответ"
   ]
  },
  {
   "cell_type": "code",
   "execution_count": 161,
   "id": "396a5a33-538a-4833-8765-94c5517db1b8",
   "metadata": {},
   "outputs": [
    {
     "data": {
      "image/png": "[encoded data removed]",
      "text/plain": [
       "<Figure size 1600x500 with 1 Axes>"
      ]
     },
     "metadata": {},
     "output_type": "display_data"
    }
   ],
   "source": [
    "fig,ax = plt.subplots(figsize = (16,5))\n",
    "ax.bar(ans.index,ans.values, color = '#900C3F')\n",
    "ax.set_ylabel('Колличество уникальных наборов')\n",
    "ax.set_xlabel('Года')\n",
    "ax.set_title('Уникальные наборы')\n",
    "ax.set_xticks(ans.index)\n",
    "ax.tick_params(axis = 'x',rotation = 70, length = 4, labelsize = 12, pad = 4)\n",
    "ax.bar(max_unique_sets.index,max_unique_sets.values, color = 'red')\n",
    "\n",
    "plt.show()"
   ]
  },
  {
   "cell_type": "code",
   "execution_count": 162,
   "id": "29c7f3e2-d6ea-4691-85a0-84dbf4ca308c",
   "metadata": {
    "tags": []
   },
   "outputs": [
    {
     "data": {
      "text/plain": [
       "2014"
      ]
     },
     "execution_count": 162,
     "metadata": {},
     "output_type": "execute_result"
    }
   ],
   "source": [
    "ans[ans == ans.max()].index[0]"
   ]
  },
  {
   "cell_type": "markdown",
   "id": "c7b68f9f-e6fe-4677-8b74-5df55b8f566a",
   "metadata": {},
   "source": [
    "Ответ: в 2014"
   ]
  }
 ],
 "metadata": {
  "kernelspec": {
   "display_name": "Python 3 (ipykernel)",
   "language": "python",
   "name": "python3"
  },
  "language_info": {
   "codemirror_mode": {
    "name": "ipython",
    "version": 3
   },
   "file_extension": ".py",
   "mimetype": "text/x-python",
   "name": "python",
   "nbconvert_exporter": "python",
   "pygments_lexer": "ipython3",
   "version": "3.9.17"
  }
 },
 "nbformat": 4,
 "nbformat_minor": 5
}
